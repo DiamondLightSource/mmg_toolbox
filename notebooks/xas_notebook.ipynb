{
 "cells": [
  {
   "metadata": {},
   "cell_type": "markdown",
   "source": [
    "# XAS Notebook\n",
    "The XAS Notebook autoprocessor will run automatically on every scan performed that contains the NXxas sub-entry.\n",
    "\n",
    "A simple analysis and plot of the data is provided.\n",
    "\n",
    "Note: mmg_toolbox is in active development and likely to change in the future, therefore please don't rely to heavily on the functions at this point. You can see how everything works at the repository. If you have any comments, please do get in touch!"
   ],
   "id": "5c9825a0b2ea0f31"
  },
  {
   "metadata": {},
   "cell_type": "code",
   "source": [
    "import os\n",
    "import numpy as np\n",
    "import matplotlib.pyplot as plt\n",
    "\n",
    "import hdfmap  # available via pip install hdfmap\n",
    "print(hdfmap.module_info())\n"
   ],
   "id": "7971cb1f220bcb0b",
   "outputs": [],
   "execution_count": null
  },
  {
   "metadata": {},
   "cell_type": "code",
   "source": [
    "# Load data from NeXus file using HdfMap\n",
    "# Works across multiple NeXus file types - i06, i10 etc\n",
    "\n",
    "nxs_map = hdfmap.create_nexus_map(inpath)\n",
    "\n",
    "with nxs_map.load_hdf() as nxs:\n",
    "    def rd(expr, default=''):\n",
    "        return nxs_map.format_hdf(nxs, expr, default=default)\n",
    "\n",
    "    # currently accounts for i06-1 and i10-1 metadata\n",
    "    metadata = {\n",
    "        \"scan\": rd('{filename}'),\n",
    "        \"cmd\": rd('{(cmd|user_command|scan_command)}'),\n",
    "        \"title\": rd('{title}', os.path.basename(inpath)),\n",
    "        \"endstation\": rd('{end_station}', 'unknown'),\n",
    "        \"sample\": rd('{sample_name}', ''),\n",
    "        \"energy\": rd('{np.mean((fastEnergy|pgm_energy|energye|energyh)):.2f} eV'),\n",
    "        \"pol\": rd('{polarisation?(\"lh\")}'),\n",
    "        \"height\": rd('{(em_y|hfm_y):.2f}', 0),\n",
    "        \"pitch\": rd('{(em_pitch|hfm_pitch):.2f}', 0),\n",
    "        \"temperature\": rd('{(T_sample|sample_temperature|lakeshore336_cryostat|lakeshore336_sample|itc3_device_sensor_temp?(300)):.2f} K'),\n",
    "        \"field\": rd('{(field_z|sample_field|magnet_field|ips_demand_field?(0)):.2f} T'),\n",
    "    }\n",
    "\n",
    "    print('Scan data paths:')\n",
    "    print('energy: ', nxs_map.eval(nxs, '_(fastEnergy|pgm_energy|energye|energyh)'))\n",
    "    print('monitor: ', nxs_map.eval(nxs, '_(C2|ca62sr|mcs16_data|mcse16_data|mcsh16_data)'))\n",
    "    print('tey: ', nxs_map.eval(nxs, '_(C1|ca61sr|mcs17_data|mcse17_data|mcsh17_data)'))\n",
    "    print('tfy: ', nxs_map.eval(nxs, '_(C3|ca63sr|mcs18_data|mcse18_data|mcsh18_data|mcsd18_data)'))\n",
    "\n",
    "    energy = nxs_map.eval(nxs, '(fastEnergy|pgm_energy|energye|energyh)')\n",
    "    monitor = nxs_map.eval(nxs, '(C2|ca62sr|mcs16_data|mcse16_data|mcsh16_data)', default=1.0)\n",
    "    tey = nxs_map.eval(nxs, '(C1|ca61sr|mcs17_data|mcse17_data|mcsh17_data)', default=np.ones(nxs_map.scannables_shape())) / monitor\n",
    "    tfy = nxs_map.eval(nxs, '(C3|ca63sr|mcs18_data|mcse18_data|mcsh18_data|mcsd18_data)', default=np.ones(nxs_map.scannables_shape())) / monitor\n",
    "\n",
    "print('\\nMetadata:')\n",
    "print('\\n'.join(f\"{n:12}: {d}\" for n, d in metadata.items()))\n",
    "\n",
    "title = \"{endstation} {sample} {scan}\\nE = {energy}, pol = {pol}, T = {temperature}, B = {field}\".format(**metadata)\n",
    "print('\\ntitle: ', title)"
   ],
   "id": "ceced9dffbeaa9ce",
   "outputs": [],
   "execution_count": null
  },
  {
   "cell_type": "code",
   "id": "28b6a641-8f85-4c76-ae2a-ed2e6f588dce",
   "metadata": {},
   "source": [
    "fig, ax = plt.subplots(1, 2, figsize=(12, 4))\n",
    "fig.suptitle(title)\n",
    "\n",
    "ax[0].plot(energy, tey, '-', label=f\"{metadata['pol']} TEY\")\n",
    "ax[1].plot(energy, tfy, '-', label=f\"{metadata['pol']} TFY\")\n",
    "\n",
    "ax[0].set_xlabel('Energy [eV]')\n",
    "ax[0].set_ylabel('signal / monitor')\n",
    "ax[0].legend()\n",
    "\n",
    "ax[1].set_xlabel('Energy [eV]')\n",
    "ax[1].set_ylabel('signal / monitor')\n",
    "ax[1].legend()"
   ],
   "outputs": [],
   "execution_count": null
  },
  {
   "metadata": {},
   "cell_type": "markdown",
   "source": [
    "# Analyse absorption edge\n",
    "\n",
    "1. normalise by pre-edge\n",
    "2. fit step-edge background\n",
    "3. remove background and normalise to step-edge\n",
    "4. save NeXus file"
   ],
   "id": "637b9a5d462537a4"
  },
  {
   "metadata": {},
   "cell_type": "code",
   "source": [
    "# Get absorption edge from energy\n",
    "from mmg_toolbox.xas.spectra_analysis import energy_range_edge_label, xray_edges_in_range\n",
    "\n",
    "print(f\"Absorption edges between: {energy.min()}, {energy.max()} eV\")\n",
    "available_edges = xray_edges_in_range(energy.min(), energy.max(), search_edges=None)\n",
    "print('\\n'.join(f\"{en} eV : {lab}\" for en, lab in available_edges))\n",
    "\n",
    "# search L edges only, returns single element edge or set\n",
    "available_l_edges = xray_edges_in_range(energy.min(), energy.max())\n",
    "edge_label = ' '.join(energy_range_edge_label(energy.min(), energy.max()))\n",
    "print('\\nAutomatically determined absorption edge:')\n",
    "print('\\n'.join(f\"{en} eV : {lab}\" for en, lab in available_l_edges))\n",
    "print(f\"Edge label: {edge_label}\")"
   ],
   "id": "b7085d5ef8fe9487",
   "outputs": [],
   "execution_count": null
  },
  {
   "metadata": {},
   "cell_type": "code",
   "source": [
    "# Load scan as Spectra object\n",
    "from mmg_toolbox.xas.nxxas_loader import load_from_nxs_using_hdfmap\n",
    "scan = load_from_nxs_using_hdfmap(inpath)\n",
    "scan_title = f\"#{scan.metadata.scan_no} {edge_label} T={scan.metadata.temp:.0f}K B={scan.metadata.mag_field:.3g}T {scan.metadata.pol}\"\n",
    "print(scan_title)\n",
    "print(scan)"
   ],
   "id": "3088bdf380a6035a",
   "outputs": [],
   "execution_count": null
  },
  {
   "metadata": {},
   "cell_type": "code",
   "source": [
    "# Plot raw spectra\n",
    "fig, axes = plt.subplots(1, 2, figsize=(12, 4), dpi=100)\n",
    "fig.suptitle(scan_title)\n",
    "for n, (mode, spectra) in enumerate(scan.spectra.items()):\n",
    "    spectra.plot(ax=axes[n], label=scan.name)\n",
    "    axes[n].set_ylabel(mode)\n",
    "    for lab, en in available_l_edges:\n",
    "        axes[n].axvline(en, c='k', linestyle='-')\n",
    "        axes[n].text(en+1, 0.98 * spectra.signal.max(), lab)\n",
    "\n",
    "for ax in axes.flat:\n",
    "    ax.set_xlabel('E [eV]')\n",
    "    ax.legend()"
   ],
   "id": "2c0051c89be1ab1f",
   "outputs": [],
   "execution_count": null
  },
  {
   "metadata": {},
   "cell_type": "code",
   "source": [
    "# 1. Normalise by pre-edge\n",
    "scan.divide_by_preedge()\n",
    "\n",
    "# plot scan normalised scan files\n",
    "fig, axes = plt.subplots(1, 2, figsize=(12, 4), dpi=100)\n",
    "fig.suptitle('Normalise by pre-edge')\n",
    "for n, (mode, spectra) in enumerate(scan.spectra.items()):\n",
    "    spectra.plot(ax=axes[n], label=scan.name)\n",
    "    axes[n].set_ylabel(mode)\n",
    "\n",
    "for ax in axes.flat:\n",
    "    ax.set_xlabel('E [eV]')\n",
    "    ax.legend()\n"
   ],
   "id": "2d5240bb43fa08a8",
   "outputs": [],
   "execution_count": null
  },
  {
   "metadata": {},
   "cell_type": "code",
   "source": [
    "# 2. Fit and subtract background\n",
    "scan.auto_edge_background(peak_width_ev=10.)\n",
    "\n",
    "# Plot background subtracted scans\n",
    "fig, axes = plt.subplots(2, 2, figsize=(12, 10), dpi=80)\n",
    "fig.suptitle(scan_title)\n",
    "for n, (mode, spectra) in enumerate(scan.spectra.items()):\n",
    "    spectra.plot_parents(ax=axes[0, n])\n",
    "    spectra.plot_bkg(ax=axes[0, n])\n",
    "    axes[0, n].set_ylabel(mode)\n",
    "\n",
    "    spectra.plot(ax=axes[1, n], label=scan.name)\n",
    "    axes[1, n].set_ylabel(mode)\n",
    "\n",
    "for ax in axes.flat:\n",
    "    ax.set_xlabel('E [eV]')\n",
    "    ax.legend()"
   ],
   "id": "d2213638d34c4e9c",
   "outputs": [],
   "execution_count": null
  },
  {
   "metadata": {},
   "cell_type": "code",
   "source": [
    "# 4. Save Nexus file\n",
    "scan.write_nexus(outpath)"
   ],
   "id": "c07be3030a891b6d",
   "outputs": [],
   "execution_count": null
  },
  {
   "metadata": {},
   "cell_type": "markdown",
   "source": [
    "# Search for previous NXxas scans\n",
    "If the previous scan was also a spectra scan, plot this and take the difference"
   ],
   "id": "1bcb56e2d5056c66"
  },
  {
   "metadata": {},
   "cell_type": "code",
   "source": [
    "from mmg_toolbox.xas.nxxas_loader import find_similar_measurements\n",
    "\n",
    "# check previous ~10 scans and build a list of energy scans at the same edge, temperature and field\n",
    "# see help(find_similar_measurements) for more info\n",
    "scans = find_similar_measurements(inpath)\n",
    "pols = {s.metadata.pol for s in scans}\n",
    "\n",
    "print(f\"Unique polarisations: {pols}\")\n",
    "\n",
    "if len(pols) > 1:\n",
    "    for scan in scans:\n",
    "        m = scan.metadata\n",
    "        print(f\"{m.scan_no} T={m.temp:3.0f}K, B={m.mag_field:4.1f}T,  {m.pol}\")\n",
    "else:\n",
    "    print('Not enough polarisations')"
   ],
   "id": "26f8e3c0406c8852",
   "outputs": [],
   "execution_count": null
  },
  {
   "metadata": {},
   "cell_type": "code",
   "source": [
    "# Repeat steps 1-3 for each scan\n",
    "if len(pols) > 1:\n",
    "    for scan in scans:\n",
    "        scan.divide_by_preedge()\n",
    "        print(scan)\n",
    "\n",
    "    # plot scan normalised scan files\n",
    "    fig, axes = plt.subplots(1, 2, figsize=(12, 4), dpi=100)\n",
    "    fig.suptitle('Normalise by pre-edge')\n",
    "    for scan in scans:\n",
    "        for n, (mode, spectra) in enumerate(scan.spectra.items()):\n",
    "            spectra.plot(ax=axes[n], label=f\"{scan.name} {scan.metadata.pol}\")\n",
    "            axes[n].set_ylabel(mode)\n",
    "\n",
    "    for ax in axes.flat:\n",
    "        ax.set_xlabel('E [eV]')\n",
    "        ax.legend()\n",
    "else:\n",
    "    print('Not enough polarisations')\n"
   ],
   "id": "f8a6f6a10b6098cc",
   "outputs": [],
   "execution_count": null
  },
  {
   "metadata": {},
   "cell_type": "code",
   "source": [
    "# Fit and subtract background\n",
    "if len(pols) > 1:\n",
    "    # for scan in scans:\n",
    "    #     scan.auto_edge_background(peak_width_ev=10.)\n",
    "\n",
    "    # Plot background subtracted scans\n",
    "    for scan in scans:\n",
    "        fig, axes = plt.subplots(2, 2, figsize=(16, 10), dpi=80)\n",
    "        scan_title = f\"#{scan.metadata.scan_no} {edge_label} T={scan.metadata.temp:.0f}K B={scan.metadata.mag_field:.3g}T {scan.metadata.pol}\"\n",
    "        fig.suptitle(scan_title)\n",
    "        for n, (mode, spectra) in enumerate(scan.spectra.items()):\n",
    "            spectra.plot_parents(ax=axes[0, n])\n",
    "            spectra.plot_bkg(ax=axes[0, n])\n",
    "            axes[0, n].set_ylabel(mode)\n",
    "\n",
    "            spectra.plot(ax=axes[1, n], label=scan.name)\n",
    "            axes[1, n].set_ylabel(mode)\n",
    "\n",
    "        for ax in axes.flat:\n",
    "            ax.set_xlabel('E [eV]')\n",
    "            ax.legend()\n"
   ],
   "id": "a3f2c62d23366efd",
   "outputs": [],
   "execution_count": null
  },
  {
   "metadata": {},
   "cell_type": "code",
   "source": [
    "if len(pols) > 1:\n",
    "    from mmg_toolbox.xas.spectra_container import average_polarised_scans\n",
    "\n",
    "    # Average polarised scans\n",
    "    for scan in scans:\n",
    "        print(f\"{scan.name}: {scan.metadata.pol}\")\n",
    "    pol1, pol2 = average_polarised_scans(*scans)\n",
    "    print(pol1)\n",
    "    print(pol2)\n",
    "\n",
    "    # Plot averaged scans\n",
    "    fig, axes = plt.subplots(1, 2, figsize=(12, 4), dpi=100)\n",
    "    fig.suptitle('Averaged polarised scans')\n",
    "    for scan in [pol1, pol2]:\n",
    "        for n, (mode, spectra) in enumerate(scan.spectra.items()):\n",
    "            spectra.plot(ax=axes[n], label=scan.name)\n",
    "            axes[n].set_ylabel(mode)\n",
    "\n",
    "    for ax in axes.flat:\n",
    "        ax.set_xlabel('E [eV]')\n",
    "        ax.legend()\n"
   ],
   "id": "a1a4d751c86d425d",
   "outputs": [],
   "execution_count": null
  },
  {
   "metadata": {},
   "cell_type": "markdown",
   "source": "# Calculate XMCD/XMLD",
   "id": "b8309f336eb702d5"
  },
  {
   "metadata": {},
   "cell_type": "code",
   "source": [
    "if len(pols) > 1:\n",
    "    # Calculate XMCD\n",
    "    xmcd = pol1 - pol2\n",
    "    print(xmcd)\n",
    "\n",
    "    for name, spectra in xmcd.spectra.items():\n",
    "        print(spectra)\n",
    "        print(spectra.process)\n",
    "        print(spectra.sum_rules_report(1))\n"
   ],
   "id": "5dac5be931118086",
   "outputs": [],
   "execution_count": null
  },
  {
   "metadata": {},
   "cell_type": "code",
   "source": [
    "if len(pols) > 1:\n",
    "    fig, axes = plt.subplots(1, 2, figsize=(12, 4), dpi=100)\n",
    "    fig.suptitle(xmcd.name.upper())\n",
    "    for n, (mode, spectra) in enumerate(xmcd.spectra.items()):\n",
    "        spectra.plot(ax=axes[n])\n",
    "        axes[n].set_ylabel(mode)\n",
    "\n",
    "    for ax in axes.flat:\n",
    "        ax.set_xlabel('E [eV]')\n",
    "        ax.legend()"
   ],
   "id": "35271f455436913c",
   "outputs": [],
   "execution_count": null
  },
  {
   "metadata": {},
   "cell_type": "code",
   "source": [
    "if len(pols) > 1:\n",
    "    # Save xmcd file\n",
    "    xmcd_filename = f\"{scans[0].metadata.scan_no}-{scans[-1].metadata.scan_no}_{xmcd.name}.nxs\"\n",
    "    output_folder = os.path.dirname(outpath)\n",
    "    xmcd.write_nexus(os.path.join(output_folder, xmcd_filename))"
   ],
   "id": "da515a56454e3def",
   "outputs": [],
   "execution_count": null
  }
 ],
 "metadata": {
  "kernelspec": {
   "display_name": "Python 3 (ipykernel)",
   "language": "python",
   "name": "python3"
  },
  "language_info": {
   "codemirror_mode": {
    "name": "ipython",
    "version": 3
   },
   "file_extension": ".py",
   "mimetype": "text/x-python",
   "name": "python",
   "nbconvert_exporter": "python",
   "pygments_lexer": "ipython3",
   "version": "3.12.9"
  }
 },
 "nbformat": 4,
 "nbformat_minor": 5
}
