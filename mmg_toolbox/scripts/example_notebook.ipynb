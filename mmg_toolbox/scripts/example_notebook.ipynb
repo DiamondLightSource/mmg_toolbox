{
 "cells": [
  {
   "metadata": {
    "collapsed": true
   },
   "cell_type": "markdown",
   "source": "# {{title}}",
   "id": "3a784d8dbeebddb5"
  },
  {
   "metadata": {},
   "cell_type": "code",
   "source": [
    "import os\n",
    "import numpy as np\n",
    "import matplotlib.pyplot as plt\n",
    "import mmg_toolbox\n",
    "from mmg_toolbox.nexus_reader import read_nexus_file\n",
    "\n",
    "print(mmg_toolbox.module_info())"
   ],
   "id": "7b0b2185da1ea9ab",
   "outputs": [],
   "execution_count": null
  },
  {
   "metadata": {},
   "cell_type": "code",
   "source": [
    "filenames = [\n",
    "    {{filepaths}}\n",
    "]\n",
    "x_axes = '{{x-axis}}'\n",
    "y_axes = '{{y-axis}}'\n",
    "\n",
    "fig, ax = plt.subplots()\n",
    "\n",
    "for file in filenames:\n",
    "    scan = read_nexus_file(file)\n",
    "    data = scan.get_plot_data(x_axes, y_axes)\n",
    "    ax.plot(data['x'], data['y'], label=scan.title())\n",
    "\n",
    "ax.set_xlabel(data['xlabel'])\n",
    "ax.set_ylabel(data['ylabel'])\n",
    "ax.set_title(data['title'])\n",
    "\n",
    "plt.show()"
   ],
   "id": "f45f09d9c941d4f4",
   "outputs": [],
   "execution_count": null
  },
  {
   "metadata": {},
   "cell_type": "markdown",
   "source": "## Fitting",
   "id": "47f39d3804382464"
  },
  {
   "metadata": {},
   "cell_type": "code",
   "source": [
    "\n",
    "\n",
    "for file in filenames:\n",
    "    fig, ax = plt.subplots()\n",
    "    scan = read_nexus_file(file)\n",
    "    data = scan.get_plot_data(x_axes, y_axes)\n",
    "\n",
    "    ax.plot(data['x'], data['y'], label=scan.title())\n",
    "\n",
    "    result = scan.fit()\n",
    "    result.plot(ax=ax)\n",
    "\n",
    "    ax.set_xlabel(data['xlabel'])\n",
    "    ax.set_ylabel(data['ylabel'])\n",
    "    ax.set_title(data['title'])\n",
    "\n",
    "plt.show()"
   ],
   "id": "921cd675ef30ffc4",
   "outputs": [],
   "execution_count": null
  }
 ],
 "metadata": {
  "kernelspec": {
   "display_name": "Python 3",
   "language": "python",
   "name": "python3"
  },
  "language_info": {
   "codemirror_mode": {
    "name": "ipython",
    "version": 2
   },
   "file_extension": ".py",
   "mimetype": "text/x-python",
   "name": "python",
   "nbconvert_exporter": "python",
   "pygments_lexer": "ipython2",
   "version": "2.7.6"
  }
 },
 "nbformat": 4,
 "nbformat_minor": 5
}
